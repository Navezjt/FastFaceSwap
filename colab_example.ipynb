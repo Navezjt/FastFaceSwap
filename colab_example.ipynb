{
  "nbformat": 4,
  "nbformat_minor": 0,
  "metadata": {
    "colab": {
      "provenance": [],
      "gpuType": "T4"
    },
    "kernelspec": {
      "name": "python3",
      "display_name": "Python 3"
    },
    "language_info": {
      "name": "python"
    },
    "accelerator": "GPU"
  },
  "cells": [
    {
      "cell_type": "code",
      "execution_count": null,
      "metadata": {
        "id": "dhOwLvtgDjNq"
      },
      "outputs": [],
      "source": [
        "#@title **SETUP THE PROGRAM**\n",
        "!git clone https://github.com/RichardErkhov/FastFaceSwap\n",
        "%cd FastFaceSwap\n",
        "!wget https://github.com/RichardErkhov/FastFaceSwap/releases/download/model/inswapper_128.onnx\n",
        "!wget https://github.com/RichardErkhov/FastFaceSwap/releases/download/model/GFPGANv1.4.pth\n",
        "!wget https://github.com/RichardErkhov/FastFaceSwap/releases/download/model/256_v2_big_generator_pretrain_stage1_38499.h5\n",
        "!pip install torch torchvision torchaudio\n",
        "!pip install -r requirements.txt\n",
        "!pip install tensorflow-gpu==2.10.1\n",
        "!pip install protobuf==3.20.2\n",
        "!pip uninstall opencv-python opencv-headless-python opencv-contrib-python -q -y\n",
        "!pip install opencv-python"
      ]
    },
    {
      "cell_type": "code",
      "source": [
        "#@title **RUN THE PROGRAM**\n",
        "#@markdown path to the face image\n",
        "face_image = \"face.jpg\" #@param {type:\"string\"}\n",
        "#@markdown path to the video where to change the face\n",
        "target = \"video.mp4\" #@param {type:\"string\"}\n",
        "output = \"output.mp4\" #@param {type:\"string\"}\n",
        "#@markdown the amount of the threads that program runs in\n",
        "threads = 12 #@param {type:\"integer\"}\n",
        "#@markdown if the input is image\n",
        "image = False #@param {type:\"boolean\"}\n",
        "face_enhancer = 'none' #@param [\"none\", \"gfpgan\", \"ffe\"]\n",
        "#@markdown FFE face enhancer is still in progress, it might drastically change the color of the face!\n",
        "if image:\n",
        "  !python main.py -f $face_image -t $target -o $output --threads $threads --image --cli --face-enhancer $face_enhancer\n",
        "else:\n",
        "  !python main.py -f $face_image -t $target -o $output --threads $threads --cli --face-enhancer $face_enhancer"
      ],
      "metadata": {
        "id": "ZGgC07ndD3BX"
      },
      "execution_count": null,
      "outputs": []
    }
  ]
}